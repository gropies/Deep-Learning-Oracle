{
  "nbformat": 4,
  "nbformat_minor": 0,
  "metadata": {
    "colab": {
      "name": "Sample_training.ipynb",
      "provenance": [],
      "collapsed_sections": []
    },
    "kernelspec": {
      "name": "python3",
      "display_name": "Python 3"
    },
    "accelerator": "GPU"
  },
  "cells": [
    {
      "cell_type": "code",
      "metadata": {
        "id": "WtU8ajLWRuHL",
        "colab_type": "code",
        "outputId": "3dad1e1b-0b58-440c-83c3-d369f73cc116",
        "colab": {
          "base_uri": "https://localhost:8080/",
          "height": 153
        }
      },
      "source": [
        "!git clone https://github.com/gropies/Deep-Learning-Oracle\n",
        "%cd Deep-Learning-Oracle/experiments\n",
        "#!bash models/download_model.sh"
      ],
      "execution_count": 1,
      "outputs": [
        {
          "output_type": "stream",
          "text": [
            "Cloning into 'Deep-Learning-Oracle'...\n",
            "remote: Enumerating objects: 121, done.\u001b[K\n",
            "remote: Counting objects: 100% (121/121), done.\u001b[K\n",
            "remote: Compressing objects: 100% (98/98), done.\u001b[K\n",
            "remote: Total 121 (delta 36), reused 104 (delta 19), pack-reused 0\n",
            "Receiving objects: 100% (121/121), 27.12 MiB | 8.64 MiB/s, done.\n",
            "Resolving deltas: 100% (36/36), done.\n",
            "/content/Deep-Learning-Oracle/experiments\n"
          ],
          "name": "stdout"
        }
      ]
    },
    {
      "cell_type": "code",
      "metadata": {
        "id": "iDC5lRM7TOm7",
        "colab_type": "code",
        "outputId": "f3c3afe9-d3e9-4470-d54c-16d3307d0355",
        "colab": {
          "base_uri": "https://localhost:8080/",
          "height": 377
        }
      },
      "source": [
        "!bash models/download_model.sh"
      ],
      "execution_count": 34,
      "outputs": [
        {
          "output_type": "stream",
          "text": [
            "--2019-11-25 03:30:14--  https://www.dropbox.com/s/2iz8orqqubrfrpo/21styles.model?dl=1\n",
            "Resolving www.dropbox.com (www.dropbox.com)... 162.125.82.1, 2620:100:6032:1::a27d:5201\n",
            "Connecting to www.dropbox.com (www.dropbox.com)|162.125.82.1|:443... connected.\n",
            "HTTP request sent, awaiting response... 301 Moved Permanently\n",
            "Location: /s/dl/2iz8orqqubrfrpo/21styles.model [following]\n",
            "--2019-11-25 03:30:15--  https://www.dropbox.com/s/dl/2iz8orqqubrfrpo/21styles.model\n",
            "Reusing existing connection to www.dropbox.com:443.\n",
            "HTTP request sent, awaiting response... 302 Found\n",
            "Location: https://ucd499b05d3ebd03f2f0aaa28e72.dl.dropboxusercontent.com/cd/0/get/AtDvU2jZ_8ZvVIIPvYb-fzqT0Zvx2whuhcVzTgydaZu-w9XngZB7_5hFUJFj-BbhdtW2GY5xlr9y7F0ry7GCxYg2mlqD2Bt8atrBM6-8Z3Vzbg/file?dl=1# [following]\n",
            "--2019-11-25 03:30:15--  https://ucd499b05d3ebd03f2f0aaa28e72.dl.dropboxusercontent.com/cd/0/get/AtDvU2jZ_8ZvVIIPvYb-fzqT0Zvx2whuhcVzTgydaZu-w9XngZB7_5hFUJFj-BbhdtW2GY5xlr9y7F0ry7GCxYg2mlqD2Bt8atrBM6-8Z3Vzbg/file?dl=1\n",
            "Resolving ucd499b05d3ebd03f2f0aaa28e72.dl.dropboxusercontent.com (ucd499b05d3ebd03f2f0aaa28e72.dl.dropboxusercontent.com)... 162.125.82.6, 2620:100:6032:6::a27d:5206\n",
            "Connecting to ucd499b05d3ebd03f2f0aaa28e72.dl.dropboxusercontent.com (ucd499b05d3ebd03f2f0aaa28e72.dl.dropboxusercontent.com)|162.125.82.6|:443... connected.\n",
            "HTTP request sent, awaiting response... 200 OK\n",
            "Length: 9612388 (9.2M) [application/binary]\n",
            "Saving to: ‘21styles.model’\n",
            "\n",
            "21styles.model      100%[===================>]   9.17M  46.6MB/s    in 0.2s    \n",
            "\n",
            "2019-11-25 03:30:16 (46.6 MB/s) - ‘21styles.model’ saved [9612388/9612388]\n",
            "\n"
          ],
          "name": "stdout"
        }
      ]
    },
    {
      "cell_type": "code",
      "metadata": {
        "id": "sAnPGLD__yu3",
        "colab_type": "code",
        "outputId": "0b6b5088-29e2-44de-f8f7-1b4551da7668",
        "colab": {
          "base_uri": "https://localhost:8080/",
          "height": 190
        }
      },
      "source": [
        "!pip install torchfile"
      ],
      "execution_count": 2,
      "outputs": [
        {
          "output_type": "stream",
          "text": [
            "Collecting torchfile\n",
            "  Downloading https://files.pythonhosted.org/packages/91/af/5b305f86f2d218091af657ddb53f984ecbd9518ca9fe8ef4103a007252c9/torchfile-0.1.0.tar.gz\n",
            "Building wheels for collected packages: torchfile\n",
            "  Building wheel for torchfile (setup.py) ... \u001b[?25l\u001b[?25hdone\n",
            "  Created wheel for torchfile: filename=torchfile-0.1.0-cp36-none-any.whl size=5711 sha256=ee438f5b60d28e2199e65b85424b347d3106e9f9dd63b1157b617f9f0bbe47cc\n",
            "  Stored in directory: /root/.cache/pip/wheels/b1/c3/d6/9a1cc8f3a99a0fc1124cae20153f36af59a6e683daca0a0814\n",
            "Successfully built torchfile\n",
            "Installing collected packages: torchfile\n",
            "Successfully installed torchfile-0.1.0\n"
          ],
          "name": "stdout"
        }
      ]
    },
    {
      "cell_type": "markdown",
      "metadata": {
        "id": "91MN0v_ipxec",
        "colab_type": "text"
      },
      "source": [
        ""
      ]
    },
    {
      "cell_type": "code",
      "metadata": {
        "id": "r4a8nRKGWAND",
        "colab_type": "code",
        "colab": {
          "base_uri": "https://localhost:8080/",
          "height": 344
        },
        "outputId": "559661aa-5d19-4c6b-a85a-7db0672f563e"
      },
      "source": [
        "import torch\n",
        "torch.load(\"monodepth_resnet18_001.pth\")"
      ],
      "execution_count": 13,
      "outputs": [
        {
          "output_type": "error",
          "ename": "RuntimeError",
          "evalue": "ignored",
          "traceback": [
            "\u001b[0;31m---------------------------------------------------------------------------\u001b[0m",
            "\u001b[0;31mRuntimeError\u001b[0m                              Traceback (most recent call last)",
            "\u001b[0;32m<ipython-input-13-bc8be07b0410>\u001b[0m in \u001b[0;36m<module>\u001b[0;34m()\u001b[0m\n\u001b[1;32m      1\u001b[0m \u001b[0;32mimport\u001b[0m \u001b[0mtorch\u001b[0m\u001b[0;34m\u001b[0m\u001b[0;34m\u001b[0m\u001b[0m\n\u001b[0;32m----> 2\u001b[0;31m \u001b[0mtorch\u001b[0m\u001b[0;34m.\u001b[0m\u001b[0mload\u001b[0m\u001b[0;34m(\u001b[0m\u001b[0;34m\"monodepth_resnet18_001.pth\"\u001b[0m\u001b[0;34m)\u001b[0m\u001b[0;34m\u001b[0m\u001b[0;34m\u001b[0m\u001b[0m\n\u001b[0m",
            "\u001b[0;32m/usr/local/lib/python3.6/dist-packages/torch/serialization.py\u001b[0m in \u001b[0;36mload\u001b[0;34m(f, map_location, pickle_module, **pickle_load_args)\u001b[0m\n\u001b[1;32m    424\u001b[0m         \u001b[0;32mif\u001b[0m \u001b[0msys\u001b[0m\u001b[0;34m.\u001b[0m\u001b[0mversion_info\u001b[0m \u001b[0;34m>=\u001b[0m \u001b[0;34m(\u001b[0m\u001b[0;36m3\u001b[0m\u001b[0;34m,\u001b[0m \u001b[0;36m0\u001b[0m\u001b[0;34m)\u001b[0m \u001b[0;32mand\u001b[0m \u001b[0;34m'encoding'\u001b[0m \u001b[0;32mnot\u001b[0m \u001b[0;32min\u001b[0m \u001b[0mpickle_load_args\u001b[0m\u001b[0;34m.\u001b[0m\u001b[0mkeys\u001b[0m\u001b[0;34m(\u001b[0m\u001b[0;34m)\u001b[0m\u001b[0;34m:\u001b[0m\u001b[0;34m\u001b[0m\u001b[0;34m\u001b[0m\u001b[0m\n\u001b[1;32m    425\u001b[0m             \u001b[0mpickle_load_args\u001b[0m\u001b[0;34m[\u001b[0m\u001b[0;34m'encoding'\u001b[0m\u001b[0;34m]\u001b[0m \u001b[0;34m=\u001b[0m \u001b[0;34m'utf-8'\u001b[0m\u001b[0;34m\u001b[0m\u001b[0;34m\u001b[0m\u001b[0m\n\u001b[0;32m--> 426\u001b[0;31m         \u001b[0;32mreturn\u001b[0m \u001b[0m_load\u001b[0m\u001b[0;34m(\u001b[0m\u001b[0mf\u001b[0m\u001b[0;34m,\u001b[0m \u001b[0mmap_location\u001b[0m\u001b[0;34m,\u001b[0m \u001b[0mpickle_module\u001b[0m\u001b[0;34m,\u001b[0m \u001b[0;34m**\u001b[0m\u001b[0mpickle_load_args\u001b[0m\u001b[0;34m)\u001b[0m\u001b[0;34m\u001b[0m\u001b[0;34m\u001b[0m\u001b[0m\n\u001b[0m\u001b[1;32m    427\u001b[0m     \u001b[0;32mfinally\u001b[0m\u001b[0;34m:\u001b[0m\u001b[0;34m\u001b[0m\u001b[0;34m\u001b[0m\u001b[0m\n\u001b[1;32m    428\u001b[0m         \u001b[0;32mif\u001b[0m \u001b[0mnew_fd\u001b[0m\u001b[0;34m:\u001b[0m\u001b[0;34m\u001b[0m\u001b[0;34m\u001b[0m\u001b[0m\n",
            "\u001b[0;32m/usr/local/lib/python3.6/dist-packages/torch/serialization.py\u001b[0m in \u001b[0;36m_load\u001b[0;34m(f, map_location, pickle_module, **pickle_load_args)\u001b[0m\n\u001b[1;32m    618\u001b[0m     \u001b[0;32mfor\u001b[0m \u001b[0mkey\u001b[0m \u001b[0;32min\u001b[0m \u001b[0mdeserialized_storage_keys\u001b[0m\u001b[0;34m:\u001b[0m\u001b[0;34m\u001b[0m\u001b[0;34m\u001b[0m\u001b[0m\n\u001b[1;32m    619\u001b[0m         \u001b[0;32massert\u001b[0m \u001b[0mkey\u001b[0m \u001b[0;32min\u001b[0m \u001b[0mdeserialized_objects\u001b[0m\u001b[0;34m\u001b[0m\u001b[0;34m\u001b[0m\u001b[0m\n\u001b[0;32m--> 620\u001b[0;31m         \u001b[0mdeserialized_objects\u001b[0m\u001b[0;34m[\u001b[0m\u001b[0mkey\u001b[0m\u001b[0;34m]\u001b[0m\u001b[0;34m.\u001b[0m\u001b[0m_set_from_file\u001b[0m\u001b[0;34m(\u001b[0m\u001b[0mf\u001b[0m\u001b[0;34m,\u001b[0m \u001b[0moffset\u001b[0m\u001b[0;34m,\u001b[0m \u001b[0mf_should_read_directly\u001b[0m\u001b[0;34m)\u001b[0m\u001b[0;34m\u001b[0m\u001b[0;34m\u001b[0m\u001b[0m\n\u001b[0m\u001b[1;32m    621\u001b[0m         \u001b[0;32mif\u001b[0m \u001b[0moffset\u001b[0m \u001b[0;32mis\u001b[0m \u001b[0;32mnot\u001b[0m \u001b[0;32mNone\u001b[0m\u001b[0;34m:\u001b[0m\u001b[0;34m\u001b[0m\u001b[0;34m\u001b[0m\u001b[0m\n\u001b[1;32m    622\u001b[0m             \u001b[0moffset\u001b[0m \u001b[0;34m=\u001b[0m \u001b[0mf\u001b[0m\u001b[0;34m.\u001b[0m\u001b[0mtell\u001b[0m\u001b[0;34m(\u001b[0m\u001b[0;34m)\u001b[0m\u001b[0;34m\u001b[0m\u001b[0;34m\u001b[0m\u001b[0m\n",
            "\u001b[0;31mRuntimeError\u001b[0m: unexpected EOF, expected 7384335 more bytes. The file might be corrupted."
          ]
        }
      ]
    },
    {
      "cell_type": "code",
      "metadata": {
        "id": "YV316uxsSH0P",
        "colab_type": "code",
        "outputId": "604580d9-b223-4f40-f1d3-861e4af252e0",
        "colab": {
          "base_uri": "https://localhost:8080/",
          "height": 1000
        }
      },
      "source": [
        "!python main.py train --epochs 4 --vgg-model-dir models"
      ],
      "execution_count": 37,
      "outputs": [
        {
          "output_type": "stream",
          "text": [
            "/usr/local/lib/python3.6/dist-packages/torchvision/transforms/transforms.py:220: UserWarning: The use of the transforms.Scale transform is deprecated, please use transforms.Resize instead.\n",
            "  \"please use transforms.Resize instead.\")\n",
            "Net(\n",
            "  (gram): GramMatrix()\n",
            "  (model1): Sequential(\n",
            "    (0): ConvLayer(\n",
            "      (reflection_pad): ReflectionPad2d((3, 3, 3, 3))\n",
            "      (conv2d): Conv2d(3, 64, kernel_size=(7, 7), stride=(1, 1))\n",
            "    )\n",
            "    (1): InstanceNorm2d(64, eps=1e-05, momentum=0.1, affine=False, track_running_stats=False)\n",
            "    (2): ReLU(inplace=True)\n",
            "    (3): Bottleneck(\n",
            "      (residual_layer): Conv2d(64, 128, kernel_size=(1, 1), stride=(2, 2))\n",
            "      (conv_block): Sequential(\n",
            "        (0): InstanceNorm2d(64, eps=1e-05, momentum=0.1, affine=False, track_running_stats=False)\n",
            "        (1): ReLU(inplace=True)\n",
            "        (2): Conv2d(64, 32, kernel_size=(1, 1), stride=(1, 1))\n",
            "        (3): InstanceNorm2d(32, eps=1e-05, momentum=0.1, affine=False, track_running_stats=False)\n",
            "        (4): ReLU(inplace=True)\n",
            "        (5): ConvLayer(\n",
            "          (reflection_pad): ReflectionPad2d((1, 1, 1, 1))\n",
            "          (conv2d): Conv2d(32, 32, kernel_size=(3, 3), stride=(2, 2))\n",
            "        )\n",
            "        (6): InstanceNorm2d(32, eps=1e-05, momentum=0.1, affine=False, track_running_stats=False)\n",
            "        (7): ReLU(inplace=True)\n",
            "        (8): Conv2d(32, 128, kernel_size=(1, 1), stride=(1, 1))\n",
            "      )\n",
            "    )\n",
            "    (4): Bottleneck(\n",
            "      (residual_layer): Conv2d(128, 512, kernel_size=(1, 1), stride=(2, 2))\n",
            "      (conv_block): Sequential(\n",
            "        (0): InstanceNorm2d(128, eps=1e-05, momentum=0.1, affine=False, track_running_stats=False)\n",
            "        (1): ReLU(inplace=True)\n",
            "        (2): Conv2d(128, 128, kernel_size=(1, 1), stride=(1, 1))\n",
            "        (3): InstanceNorm2d(128, eps=1e-05, momentum=0.1, affine=False, track_running_stats=False)\n",
            "        (4): ReLU(inplace=True)\n",
            "        (5): ConvLayer(\n",
            "          (reflection_pad): ReflectionPad2d((1, 1, 1, 1))\n",
            "          (conv2d): Conv2d(128, 128, kernel_size=(3, 3), stride=(2, 2))\n",
            "        )\n",
            "        (6): InstanceNorm2d(128, eps=1e-05, momentum=0.1, affine=False, track_running_stats=False)\n",
            "        (7): ReLU(inplace=True)\n",
            "        (8): Conv2d(128, 512, kernel_size=(1, 1), stride=(1, 1))\n",
            "      )\n",
            "    )\n",
            "  )\n",
            "  (ins): Inspiration(N x 512)\n",
            "  (model): Sequential(\n",
            "    (0): Sequential(\n",
            "      (0): ConvLayer(\n",
            "        (reflection_pad): ReflectionPad2d((3, 3, 3, 3))\n",
            "        (conv2d): Conv2d(3, 64, kernel_size=(7, 7), stride=(1, 1))\n",
            "      )\n",
            "      (1): InstanceNorm2d(64, eps=1e-05, momentum=0.1, affine=False, track_running_stats=False)\n",
            "      (2): ReLU(inplace=True)\n",
            "      (3): Bottleneck(\n",
            "        (residual_layer): Conv2d(64, 128, kernel_size=(1, 1), stride=(2, 2))\n",
            "        (conv_block): Sequential(\n",
            "          (0): InstanceNorm2d(64, eps=1e-05, momentum=0.1, affine=False, track_running_stats=False)\n",
            "          (1): ReLU(inplace=True)\n",
            "          (2): Conv2d(64, 32, kernel_size=(1, 1), stride=(1, 1))\n",
            "          (3): InstanceNorm2d(32, eps=1e-05, momentum=0.1, affine=False, track_running_stats=False)\n",
            "          (4): ReLU(inplace=True)\n",
            "          (5): ConvLayer(\n",
            "            (reflection_pad): ReflectionPad2d((1, 1, 1, 1))\n",
            "            (conv2d): Conv2d(32, 32, kernel_size=(3, 3), stride=(2, 2))\n",
            "          )\n",
            "          (6): InstanceNorm2d(32, eps=1e-05, momentum=0.1, affine=False, track_running_stats=False)\n",
            "          (7): ReLU(inplace=True)\n",
            "          (8): Conv2d(32, 128, kernel_size=(1, 1), stride=(1, 1))\n",
            "        )\n",
            "      )\n",
            "      (4): Bottleneck(\n",
            "        (residual_layer): Conv2d(128, 512, kernel_size=(1, 1), stride=(2, 2))\n",
            "        (conv_block): Sequential(\n",
            "          (0): InstanceNorm2d(128, eps=1e-05, momentum=0.1, affine=False, track_running_stats=False)\n",
            "          (1): ReLU(inplace=True)\n",
            "          (2): Conv2d(128, 128, kernel_size=(1, 1), stride=(1, 1))\n",
            "          (3): InstanceNorm2d(128, eps=1e-05, momentum=0.1, affine=False, track_running_stats=False)\n",
            "          (4): ReLU(inplace=True)\n",
            "          (5): ConvLayer(\n",
            "            (reflection_pad): ReflectionPad2d((1, 1, 1, 1))\n",
            "            (conv2d): Conv2d(128, 128, kernel_size=(3, 3), stride=(2, 2))\n",
            "          )\n",
            "          (6): InstanceNorm2d(128, eps=1e-05, momentum=0.1, affine=False, track_running_stats=False)\n",
            "          (7): ReLU(inplace=True)\n",
            "          (8): Conv2d(128, 512, kernel_size=(1, 1), stride=(1, 1))\n",
            "        )\n",
            "      )\n",
            "    )\n",
            "    (1): Inspiration(N x 512)\n",
            "    (2): Bottleneck(\n",
            "      (conv_block): Sequential(\n",
            "        (0): InstanceNorm2d(512, eps=1e-05, momentum=0.1, affine=False, track_running_stats=False)\n",
            "        (1): ReLU(inplace=True)\n",
            "        (2): Conv2d(512, 128, kernel_size=(1, 1), stride=(1, 1))\n",
            "        (3): InstanceNorm2d(128, eps=1e-05, momentum=0.1, affine=False, track_running_stats=False)\n",
            "        (4): ReLU(inplace=True)\n",
            "        (5): ConvLayer(\n",
            "          (reflection_pad): ReflectionPad2d((1, 1, 1, 1))\n",
            "          (conv2d): Conv2d(128, 128, kernel_size=(3, 3), stride=(1, 1))\n",
            "        )\n",
            "        (6): InstanceNorm2d(128, eps=1e-05, momentum=0.1, affine=False, track_running_stats=False)\n",
            "        (7): ReLU(inplace=True)\n",
            "        (8): Conv2d(128, 512, kernel_size=(1, 1), stride=(1, 1))\n",
            "      )\n",
            "    )\n",
            "    (3): Bottleneck(\n",
            "      (conv_block): Sequential(\n",
            "        (0): InstanceNorm2d(512, eps=1e-05, momentum=0.1, affine=False, track_running_stats=False)\n",
            "        (1): ReLU(inplace=True)\n",
            "        (2): Conv2d(512, 128, kernel_size=(1, 1), stride=(1, 1))\n",
            "        (3): InstanceNorm2d(128, eps=1e-05, momentum=0.1, affine=False, track_running_stats=False)\n",
            "        (4): ReLU(inplace=True)\n",
            "        (5): ConvLayer(\n",
            "          (reflection_pad): ReflectionPad2d((1, 1, 1, 1))\n",
            "          (conv2d): Conv2d(128, 128, kernel_size=(3, 3), stride=(1, 1))\n",
            "        )\n",
            "        (6): InstanceNorm2d(128, eps=1e-05, momentum=0.1, affine=False, track_running_stats=False)\n",
            "        (7): ReLU(inplace=True)\n",
            "        (8): Conv2d(128, 512, kernel_size=(1, 1), stride=(1, 1))\n",
            "      )\n",
            "    )\n",
            "    (4): Bottleneck(\n",
            "      (conv_block): Sequential(\n",
            "        (0): InstanceNorm2d(512, eps=1e-05, momentum=0.1, affine=False, track_running_stats=False)\n",
            "        (1): ReLU(inplace=True)\n",
            "        (2): Conv2d(512, 128, kernel_size=(1, 1), stride=(1, 1))\n",
            "        (3): InstanceNorm2d(128, eps=1e-05, momentum=0.1, affine=False, track_running_stats=False)\n",
            "        (4): ReLU(inplace=True)\n",
            "        (5): ConvLayer(\n",
            "          (reflection_pad): ReflectionPad2d((1, 1, 1, 1))\n",
            "          (conv2d): Conv2d(128, 128, kernel_size=(3, 3), stride=(1, 1))\n",
            "        )\n",
            "        (6): InstanceNorm2d(128, eps=1e-05, momentum=0.1, affine=False, track_running_stats=False)\n",
            "        (7): ReLU(inplace=True)\n",
            "        (8): Conv2d(128, 512, kernel_size=(1, 1), stride=(1, 1))\n",
            "      )\n",
            "    )\n",
            "    (5): Bottleneck(\n",
            "      (conv_block): Sequential(\n",
            "        (0): InstanceNorm2d(512, eps=1e-05, momentum=0.1, affine=False, track_running_stats=False)\n",
            "        (1): ReLU(inplace=True)\n",
            "        (2): Conv2d(512, 128, kernel_size=(1, 1), stride=(1, 1))\n",
            "        (3): InstanceNorm2d(128, eps=1e-05, momentum=0.1, affine=False, track_running_stats=False)\n",
            "        (4): ReLU(inplace=True)\n",
            "        (5): ConvLayer(\n",
            "          (reflection_pad): ReflectionPad2d((1, 1, 1, 1))\n",
            "          (conv2d): Conv2d(128, 128, kernel_size=(3, 3), stride=(1, 1))\n",
            "        )\n",
            "        (6): InstanceNorm2d(128, eps=1e-05, momentum=0.1, affine=False, track_running_stats=False)\n",
            "        (7): ReLU(inplace=True)\n",
            "        (8): Conv2d(128, 512, kernel_size=(1, 1), stride=(1, 1))\n",
            "      )\n",
            "    )\n",
            "    (6): Bottleneck(\n",
            "      (conv_block): Sequential(\n",
            "        (0): InstanceNorm2d(512, eps=1e-05, momentum=0.1, affine=False, track_running_stats=False)\n",
            "        (1): ReLU(inplace=True)\n",
            "        (2): Conv2d(512, 128, kernel_size=(1, 1), stride=(1, 1))\n",
            "        (3): InstanceNorm2d(128, eps=1e-05, momentum=0.1, affine=False, track_running_stats=False)\n",
            "        (4): ReLU(inplace=True)\n",
            "        (5): ConvLayer(\n",
            "          (reflection_pad): ReflectionPad2d((1, 1, 1, 1))\n",
            "          (conv2d): Conv2d(128, 128, kernel_size=(3, 3), stride=(1, 1))\n",
            "        )\n",
            "        (6): InstanceNorm2d(128, eps=1e-05, momentum=0.1, affine=False, track_running_stats=False)\n",
            "        (7): ReLU(inplace=True)\n",
            "        (8): Conv2d(128, 512, kernel_size=(1, 1), stride=(1, 1))\n",
            "      )\n",
            "    )\n",
            "    (7): Bottleneck(\n",
            "      (conv_block): Sequential(\n",
            "        (0): InstanceNorm2d(512, eps=1e-05, momentum=0.1, affine=False, track_running_stats=False)\n",
            "        (1): ReLU(inplace=True)\n",
            "        (2): Conv2d(512, 128, kernel_size=(1, 1), stride=(1, 1))\n",
            "        (3): InstanceNorm2d(128, eps=1e-05, momentum=0.1, affine=False, track_running_stats=False)\n",
            "        (4): ReLU(inplace=True)\n",
            "        (5): ConvLayer(\n",
            "          (reflection_pad): ReflectionPad2d((1, 1, 1, 1))\n",
            "          (conv2d): Conv2d(128, 128, kernel_size=(3, 3), stride=(1, 1))\n",
            "        )\n",
            "        (6): InstanceNorm2d(128, eps=1e-05, momentum=0.1, affine=False, track_running_stats=False)\n",
            "        (7): ReLU(inplace=True)\n",
            "        (8): Conv2d(128, 512, kernel_size=(1, 1), stride=(1, 1))\n",
            "      )\n",
            "    )\n",
            "    (8): UpBottleneck(\n",
            "      (residual_layer): UpsampleConvLayer(\n",
            "        (upsample_layer): Upsample(scale_factor=2.0, mode=nearest)\n",
            "        (conv2d): Conv2d(512, 128, kernel_size=(1, 1), stride=(1, 1))\n",
            "      )\n",
            "      (conv_block): Sequential(\n",
            "        (0): InstanceNorm2d(512, eps=1e-05, momentum=0.1, affine=False, track_running_stats=False)\n",
            "        (1): ReLU(inplace=True)\n",
            "        (2): Conv2d(512, 32, kernel_size=(1, 1), stride=(1, 1))\n",
            "        (3): InstanceNorm2d(32, eps=1e-05, momentum=0.1, affine=False, track_running_stats=False)\n",
            "        (4): ReLU(inplace=True)\n",
            "        (5): UpsampleConvLayer(\n",
            "          (upsample_layer): Upsample(scale_factor=2.0, mode=nearest)\n",
            "          (reflection_pad): ReflectionPad2d((1, 1, 1, 1))\n",
            "          (conv2d): Conv2d(32, 32, kernel_size=(3, 3), stride=(1, 1))\n",
            "        )\n",
            "        (6): InstanceNorm2d(32, eps=1e-05, momentum=0.1, affine=False, track_running_stats=False)\n",
            "        (7): ReLU(inplace=True)\n",
            "        (8): Conv2d(32, 128, kernel_size=(1, 1), stride=(1, 1))\n",
            "      )\n",
            "    )\n",
            "    (9): UpBottleneck(\n",
            "      (residual_layer): UpsampleConvLayer(\n",
            "        (upsample_layer): Upsample(scale_factor=2.0, mode=nearest)\n",
            "        (conv2d): Conv2d(128, 64, kernel_size=(1, 1), stride=(1, 1))\n",
            "      )\n",
            "      (conv_block): Sequential(\n",
            "        (0): InstanceNorm2d(128, eps=1e-05, momentum=0.1, affine=False, track_running_stats=False)\n",
            "        (1): ReLU(inplace=True)\n",
            "        (2): Conv2d(128, 16, kernel_size=(1, 1), stride=(1, 1))\n",
            "        (3): InstanceNorm2d(16, eps=1e-05, momentum=0.1, affine=False, track_running_stats=False)\n",
            "        (4): ReLU(inplace=True)\n",
            "        (5): UpsampleConvLayer(\n",
            "          (upsample_layer): Upsample(scale_factor=2.0, mode=nearest)\n",
            "          (reflection_pad): ReflectionPad2d((1, 1, 1, 1))\n",
            "          (conv2d): Conv2d(16, 16, kernel_size=(3, 3), stride=(1, 1))\n",
            "        )\n",
            "        (6): InstanceNorm2d(16, eps=1e-05, momentum=0.1, affine=False, track_running_stats=False)\n",
            "        (7): ReLU(inplace=True)\n",
            "        (8): Conv2d(16, 64, kernel_size=(1, 1), stride=(1, 1))\n",
            "      )\n",
            "    )\n",
            "    (10): InstanceNorm2d(64, eps=1e-05, momentum=0.1, affine=False, track_running_stats=False)\n",
            "    (11): ReLU(inplace=True)\n",
            "    (12): ConvLayer(\n",
            "      (reflection_pad): ReflectionPad2d((3, 3, 3, 3))\n",
            "      (conv2d): Conv2d(64, 3, kernel_size=(7, 7), stride=(1, 1))\n",
            "    )\n",
            "  )\n",
            ")\n",
            "Traceback (most recent call last):\n",
            "  File \"/usr/lib/python3.6/tarfile.py\", line 2297, in next\n",
            "    tarinfo = self.tarinfo.fromtarfile(self)\n",
            "  File \"/usr/lib/python3.6/tarfile.py\", line 1093, in fromtarfile\n",
            "    obj = cls.frombuf(buf, tarfile.encoding, tarfile.errors)\n",
            "  File \"/usr/lib/python3.6/tarfile.py\", line 1029, in frombuf\n",
            "    raise EmptyHeaderError(\"empty header\")\n",
            "tarfile.EmptyHeaderError: empty header\n",
            "\n",
            "During handling of the above exception, another exception occurred:\n",
            "\n",
            "Traceback (most recent call last):\n",
            "  File \"/usr/local/lib/python3.6/dist-packages/torch/serialization.py\", line 595, in _load\n",
            "    return legacy_load(f)\n",
            "  File \"/usr/local/lib/python3.6/dist-packages/torch/serialization.py\", line 506, in legacy_load\n",
            "    with closing(tarfile.open(fileobj=f, mode='r:', format=tarfile.PAX_FORMAT)) as tar, \\\n",
            "  File \"/usr/lib/python3.6/tarfile.py\", line 1589, in open\n",
            "    return func(name, filemode, fileobj, **kwargs)\n",
            "  File \"/usr/lib/python3.6/tarfile.py\", line 1619, in taropen\n",
            "    return cls(name, mode, fileobj, **kwargs)\n",
            "  File \"/usr/lib/python3.6/tarfile.py\", line 1482, in __init__\n",
            "    self.firstmember = self.next()\n",
            "  File \"/usr/lib/python3.6/tarfile.py\", line 2312, in next\n",
            "    raise ReadError(\"empty file\")\n",
            "tarfile.ReadError: empty file\n",
            "\n",
            "During handling of the above exception, another exception occurred:\n",
            "\n",
            "Traceback (most recent call last):\n",
            "  File \"main.py\", line 354, in <module>\n",
            "    main()\n",
            "  File \"main.py\", line 49, in main\n",
            "    train(args)\n",
            "  File \"main.py\", line 186, in train\n",
            "    depth_model.load('models/depth.pth')\n",
            "  File \"/content/Deep-Learning-Oracle/experiments/Mono_depth.py\", line 23, in load\n",
            "    state = torch.load(path)\n",
            "  File \"/usr/local/lib/python3.6/dist-packages/torch/serialization.py\", line 426, in load\n",
            "    return _load(f, map_location, pickle_module, **pickle_load_args)\n",
            "  File \"/usr/local/lib/python3.6/dist-packages/torch/serialization.py\", line 597, in _load\n",
            "    if _is_zipfile(f):\n",
            "  File \"/usr/local/lib/python3.6/dist-packages/torch/serialization.py\", line 75, in _is_zipfile\n",
            "    if ord(magic_byte) != ord(read_byte):\n",
            "TypeError: ord() expected a character, but string of length 0 found\n"
          ],
          "name": "stdout"
        }
      ]
    },
    {
      "cell_type": "code",
      "metadata": {
        "id": "b6ZdllpsUyKr",
        "colab_type": "code",
        "outputId": "57f56e57-3dfb-44ec-8038-6c91dba61370",
        "colab": {
          "base_uri": "https://localhost:8080/",
          "height": 190
        }
      },
      "source": [
        "!pip install torchfile"
      ],
      "execution_count": 0,
      "outputs": [
        {
          "output_type": "stream",
          "text": [
            "Collecting torchfile\n",
            "  Downloading https://files.pythonhosted.org/packages/91/af/5b305f86f2d218091af657ddb53f984ecbd9518ca9fe8ef4103a007252c9/torchfile-0.1.0.tar.gz\n",
            "Building wheels for collected packages: torchfile\n",
            "  Building wheel for torchfile (setup.py) ... \u001b[?25l\u001b[?25hdone\n",
            "  Created wheel for torchfile: filename=torchfile-0.1.0-cp36-none-any.whl size=5711 sha256=08c1b219908f9544afbf1893112d11ba2e8fd5ccca7f2ffd0cbef8b3be2042a0\n",
            "  Stored in directory: /root/.cache/pip/wheels/b1/c3/d6/9a1cc8f3a99a0fc1124cae20153f36af59a6e683daca0a0814\n",
            "Successfully built torchfile\n",
            "Installing collected packages: torchfile\n",
            "Successfully installed torchfile-0.1.0\n"
          ],
          "name": "stdout"
        }
      ]
    },
    {
      "cell_type": "code",
      "metadata": {
        "id": "TKoBnEYyU3E5",
        "colab_type": "code",
        "colab": {}
      },
      "source": [
        "!python main.py eval --content-image images/content/venice-boat.jpg --style-image images/21styles/candy.jpg --model models/final.model --content-size 1024 --output-image output.jpg"
      ],
      "execution_count": 0,
      "outputs": []
    },
    {
      "cell_type": "code",
      "metadata": {
        "id": "qhMKCLalDJ7C",
        "colab_type": "code",
        "colab": {
          "base_uri": "https://localhost:8080/",
          "height": 102
        },
        "outputId": "c53e7491-18ed-40ff-d517-411b5356e9b3"
      },
      "source": [
        "!git clone https://github.com/harsimrat-eyeem/holy-edge.git"
      ],
      "execution_count": 3,
      "outputs": [
        {
          "output_type": "stream",
          "text": [
            "Cloning into 'holy-edge'...\n",
            "remote: Enumerating objects: 315, done.\u001b[K\n",
            "remote: Total 315 (delta 0), reused 0 (delta 0), pack-reused 315\u001b[K\n",
            "Receiving objects: 100% (315/315), 26.26 MiB | 7.89 MiB/s, done.\n",
            "Resolving deltas: 100% (152/152), done.\n"
          ],
          "name": "stdout"
        }
      ]
    },
    {
      "cell_type": "code",
      "metadata": {
        "id": "xSatm5wIIdez",
        "colab_type": "code",
        "colab": {
          "base_uri": "https://localhost:8080/",
          "height": 68
        },
        "outputId": "3fbb615a-d470-4f1c-b84e-fdbdc11a782e"
      },
      "source": [
        "%cd holy-edge/\n",
        "!ls"
      ],
      "execution_count": 16,
      "outputs": [
        {
          "output_type": "stream",
          "text": [
            "[Errno 2] No such file or directory: 'holy-edge/'\n",
            "/content/holy-edge\n",
            "hed  LICENSE  README.md  requirements.txt  run-hed.py\n"
          ],
          "name": "stdout"
        }
      ]
    },
    {
      "cell_type": "code",
      "metadata": {
        "id": "caFZ6iunDgaf",
        "colab_type": "code",
        "colab": {
          "base_uri": "https://localhost:8080/",
          "height": 204
        },
        "outputId": "04a4d034-a365-4fe8-a348-eca11c8d88f8"
      },
      "source": [
        "!wget --timestamping http://content.sniklaus.com/github/pytorch-hed/network-bsds500.pytorch"
      ],
      "execution_count": 37,
      "outputs": [
        {
          "output_type": "stream",
          "text": [
            "--2019-11-25 01:28:56--  http://content.sniklaus.com/github/pytorch-hed/network-bsds500.pytorch\n",
            "Resolving content.sniklaus.com (content.sniklaus.com)... 51.15.58.24\n",
            "Connecting to content.sniklaus.com (content.sniklaus.com)|51.15.58.24|:80... connected.\n",
            "HTTP request sent, awaiting response... 200 OK\n",
            "Length: 58871680 (56M) [application/octet-stream]\n",
            "Saving to: ‘network-bsds500.pytorch’\n",
            "\n",
            "network-bsds500.pyt 100%[===================>]  56.14M  10.2MB/s    in 7.0s    \n",
            "\n",
            "2019-11-25 01:29:03 (8.00 MB/s) - ‘network-bsds500.pytorch’ saved [58871680/58871680]\n",
            "\n"
          ],
          "name": "stdout"
        }
      ]
    }
  ]
}